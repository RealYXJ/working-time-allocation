{
 "cells": [
  {
   "cell_type": "code",
   "execution_count": 3,
   "metadata": {},
   "outputs": [
    {
     "name": "stdout",
     "output_type": "stream",
     "text": [
      "(4, 10)\n",
      "(4, 11)\n"
     ]
    }
   ],
   "source": [
    "import pandas as pd\n",
    "from sklearn.model_selection import train_test_split\n",
    "from sklearn.linear_model import LinearRegression\n",
    "from sklearn.metrics import mean_squared_error\n",
    "import numpy as np\n",
    "\n",
    "\n",
    "df_components = pd.read_csv(\"./components.csv\")\n",
    "\n",
    "df_time = pd.read_csv(\"./tasks-time.csv\")\n",
    "\n",
    "# print(df_components.head)\n",
    "# print(df_time.head)\n",
    "\n",
    "# Convert to numpy array excluding header\n",
    "numpy_array_components = df_components.values[:]  # Exclude the first row (header)\n",
    "numpy_array_time = df_time.values[:]  # Exclude the first row (header)\n",
    "print(numpy_array_components.shape)\n",
    "print(numpy_array_time.shape)"
   ]
  },
  {
   "cell_type": "code",
   "execution_count": 5,
   "metadata": {},
   "outputs": [
    {
     "name": "stdout",
     "output_type": "stream",
     "text": [
      "---------------0\n",
      "---------------1\n",
      "---------------2\n",
      "---------------3\n",
      "---------------4\n",
      "---------------5\n",
      "---------------6\n",
      "---------------7\n",
      "---------------8\n",
      "---------------9\n",
      "---------------10\n"
     ]
    }
   ],
   "source": [
    "# x_train = numpy_array_components[0:3, 2:3]\n",
    "# y_train = numpy_array_time[0:3, 2:3]\n",
    "\n",
    "# x_test = numpy_array_components[3:,1:2]\n",
    "# y_test = numpy_array_time[3:, 1:2]\n",
    "\n",
    "# prepare the training and test data\n",
    "x_train_list = []\n",
    "y_train_list = []\n",
    "x_test_list = []\n",
    "y_test_list = []\n",
    "for i in range(numpy_array_time.shape[1]):\n",
    "    print(f\"---------------{i}\")\n",
    "    x_train_list.append(numpy_array_components[0:3,:])\n",
    "    y_train_list.append(numpy_array_time[0:3, i:i+1])\n",
    "    x_test_list.append(numpy_array_components[3:,:])\n",
    "    y_test_list.append(numpy_array_time[3:,i:i+1])  \n",
    "\n",
    "# print(np.array(x_train_list).shape)  \n"
   ]
  },
  {
   "cell_type": "code",
   "execution_count": 6,
   "metadata": {},
   "outputs": [],
   "source": [
    "# create the model \n",
    "train_models = []\n",
    "for i in range(numpy_array_time.shape[1]):\n",
    "    train_models.append(LinearRegression())"
   ]
  },
  {
   "cell_type": "code",
   "execution_count": 7,
   "metadata": {},
   "outputs": [],
   "source": [
    "for i, model in enumerate(train_models):\n",
    "    model.fit(x_train_list[i], y_train_list[i])"
   ]
  },
  {
   "cell_type": "code",
   "execution_count": 22,
   "metadata": {},
   "outputs": [
    {
     "name": "stdout",
     "output_type": "stream",
     "text": [
      "['Machine vision', ' Mechanical assembly', ' Machining', ' Mechanical design', ' Electrical installation', ' Robot programming', ' PLC programming', ' HMI and database', ' Project management', ' Electrical design', ' Procurement']\n",
      "pred: [592.0, 2918.0, 1142.0, 1895.0, 1055.0, 494.0, 2016.0, 705.0, 1264.0, 750.0, 794.0]\n",
      "real: [1833, 2552, 1055, 3939, 884, 474, 2018, 978, 1688, 759, 367]\n"
     ]
    }
   ],
   "source": [
    "# Now you can use the model to make predictions\n",
    "pred_outputs = []\n",
    "for i, model in enumerate(train_models):\n",
    "    predicted_output = model.predict(x_test_list[i])\n",
    "    # print(predicted_output[0][0])\n",
    "    pred_outputs.append(round(predicted_output[0][0], 1))\n",
    "\n",
    "print(list(df_time.columns))\n",
    "print(f\"pred: {pred_outputs}\")\n",
    "print(f\"real: {[y[0][0] for y in y_test_list]}\")"
   ]
  }
 ],
 "metadata": {
  "kernelspec": {
   "display_name": "uwb-lstm-env",
   "language": "python",
   "name": "python3"
  },
  "language_info": {
   "codemirror_mode": {
    "name": "ipython",
    "version": 3
   },
   "file_extension": ".py",
   "mimetype": "text/x-python",
   "name": "python",
   "nbconvert_exporter": "python",
   "pygments_lexer": "ipython3",
   "version": "3.11.4"
  },
  "orig_nbformat": 4
 },
 "nbformat": 4,
 "nbformat_minor": 2
}
